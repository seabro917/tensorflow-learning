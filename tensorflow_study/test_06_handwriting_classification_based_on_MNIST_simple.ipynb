{
 "cells": [
  {
   "cell_type": "code",
   "execution_count": 10,
   "metadata": {},
   "outputs": [],
   "source": [
    "import tensorflow as tf\n",
    "from tensorflow.examples.tutorials.mnist import input_data"
   ]
  },
  {
   "cell_type": "code",
   "execution_count": 7,
   "metadata": {
    "scrolled": true
   },
   "outputs": [
    {
     "name": "stdout",
     "output_type": "stream",
     "text": [
      "Extracting MNIST_data\\train-images-idx3-ubyte.gz\n",
      "Extracting MNIST_data\\train-labels-idx1-ubyte.gz\n",
      "Extracting MNIST_data\\t10k-images-idx3-ubyte.gz\n",
      "Extracting MNIST_data\\t10k-labels-idx1-ubyte.gz\n",
      "Iter 0, Testing accuracy: 0.8324\n",
      "Iter 1, Testing accuracy: 0.8708\n",
      "Iter 2, Testing accuracy: 0.8814\n",
      "Iter 3, Testing accuracy: 0.8869\n",
      "Iter 4, Testing accuracy: 0.8934\n",
      "Iter 5, Testing accuracy: 0.8971\n",
      "Iter 6, Testing accuracy: 0.8994\n",
      "Iter 7, Testing accuracy: 0.902\n",
      "Iter 8, Testing accuracy: 0.9035\n",
      "Iter 9, Testing accuracy: 0.9054\n",
      "Iter 10, Testing accuracy: 0.9061\n",
      "Iter 11, Testing accuracy: 0.9072\n",
      "Iter 12, Testing accuracy: 0.9076\n",
      "Iter 13, Testing accuracy: 0.9091\n",
      "Iter 14, Testing accuracy: 0.9102\n",
      "Iter 15, Testing accuracy: 0.9103\n",
      "Iter 16, Testing accuracy: 0.9113\n",
      "Iter 17, Testing accuracy: 0.9125\n",
      "Iter 18, Testing accuracy: 0.9119\n",
      "Iter 19, Testing accuracy: 0.9146\n",
      "Iter 20, Testing accuracy: 0.9137\n"
     ]
    }
   ],
   "source": [
    "# Load the sample data\n",
    "mnist = input_data.read_data_sets(\"MNIST_data\",one_hot = True)\n",
    "# Set the size of batch\n",
    "batch_size = 100\n",
    "# Number of batches in total\n",
    "number_of_batch = mnist.train.num_examples // batch_size\n",
    "\n",
    "\n",
    "# Define two place holders (Each picture is of size 28*28, which is 784, and will be extended as a one-dimensional vector)\n",
    "x = tf.placeholder(tf.float32,[None, 784])\n",
    "# Ten different kinds of numbers in total, ranging from 0 to 9.\n",
    "y = tf.placeholder(tf.float32,[None, 10])\n",
    "\n",
    "# Define a simple network (without hidden layer)\n",
    "Weight = tf.Variable(tf.zeros([784,10]))\n",
    "Biase = tf.Variable(tf.zeros([10]))\n",
    "# prediction is of size 1*10 (one_hot)\n",
    "prediction = tf.nn.softmax(tf.matmul(x,Weight) + Biase)\n",
    "\n",
    "# Quadratic loss function and gradient descent training method\n",
    "loss = tf.reduce_mean(tf.square(y-prediction))\n",
    "train_step = tf.train.GradientDescentOptimizer(0.2).minimize(loss)\n",
    "\n",
    "# Evaluate the accuracy of the model (argmax return the index of the max value)\n",
    "# correction_prediction is a list of type boolean\n",
    "correct_prediction = tf.equal(tf.argmax(y,1),tf.argmax(prediction,1)) # One-dimensional tensor\n",
    "# Calculate the accuracy (Transfrom the type into float32 format)\n",
    "accuracy = tf.reduce_mean(tf.cast(correct_prediction,tf.float32))\n",
    "\n",
    "with tf.Session() as sess:\n",
    "    sess.run(tf.global_variables_initializer())\n",
    "    # 21 cycles\n",
    "    for epoch in range(21):\n",
    "        # Iteration through all images\n",
    "        for batch in range(number_of_batch):\n",
    "            # Get the sample and corresponding label\n",
    "            batch_sample,batch_label = mnist.train.next_batch(batch_size)\n",
    "            sess.run(train_step,feed_dict = {x:batch_sample,y:batch_label})\n",
    "        # Accuracy after one iteration is done\n",
    "        acc = sess.run(accuracy,feed_dict = {x:mnist.test.images,y:mnist.test.labels})\n",
    "        print(\"Iter \" + str(epoch) + \", Testing accuracy: \" + str(acc))\n",
    "        "
   ]
  },
  {
   "cell_type": "code",
   "execution_count": null,
   "metadata": {},
   "outputs": [],
   "source": []
  }
 ],
 "metadata": {
  "kernelspec": {
   "display_name": "Python 3",
   "language": "python",
   "name": "python3"
  },
  "language_info": {
   "codemirror_mode": {
    "name": "ipython",
    "version": 3
   },
   "file_extension": ".py",
   "mimetype": "text/x-python",
   "name": "python",
   "nbconvert_exporter": "python",
   "pygments_lexer": "ipython3",
   "version": "3.7.1"
  }
 },
 "nbformat": 4,
 "nbformat_minor": 2
}
