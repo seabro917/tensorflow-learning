{
 "cells": [
  {
   "cell_type": "code",
   "execution_count": 1,
   "metadata": {},
   "outputs": [],
   "source": [
    "import tensorflow as tf\n",
    "from tensorflow.examples.tutorials.mnist import input_data"
   ]
  },
  {
   "cell_type": "code",
   "execution_count": null,
   "metadata": {},
   "outputs": [
    {
     "name": "stdout",
     "output_type": "stream",
     "text": [
      "Extracting MNIST_data\\train-images-idx3-ubyte.gz\n",
      "Extracting MNIST_data\\train-labels-idx1-ubyte.gz\n",
      "Extracting MNIST_data\\t10k-images-idx3-ubyte.gz\n",
      "Extracting MNIST_data\\t10k-labels-idx1-ubyte.gz\n",
      "Iter: 0, Testing accuracy: 0.9303, Training accuracy: 0.92874545\n",
      "Iter: 1, Testing accuracy: 0.9507, Training accuracy: 0.95345455\n",
      "Iter: 2, Testing accuracy: 0.954, Training accuracy: 0.95649093\n",
      "Iter: 3, Testing accuracy: 0.9593, Training accuracy: 0.9662909\n",
      "Iter: 4, Testing accuracy: 0.9636, Training accuracy: 0.9692\n",
      "Iter: 5, Testing accuracy: 0.967, Training accuracy: 0.9716909\n"
     ]
    }
   ],
   "source": [
    "# Load the sample data\n",
    "mnist = input_data.read_data_sets(\"MNIST_data\",one_hot = True)\n",
    "# Set the size of batch\n",
    "batch_size = 100\n",
    "# Number of batches in total\n",
    "number_of_batch = mnist.train.num_examples // batch_size\n",
    "\n",
    "\n",
    "# Define three place holders (Each picture is of size 28*28, which is 784, and will be extended as a one-dimensional vector)\n",
    "x = tf.placeholder(tf.float32,[None, 784])\n",
    "# Ten different kinds of numbers in total, ranging from 0 to 9.\n",
    "y = tf.placeholder(tf.float32,[None, 10])\n",
    "# How many neurons work during each epoch \n",
    "keep_prob = tf.placeholder(tf.float32)\n",
    "\n",
    "# Three hidden layer (Mention the way of initializing the weights and biases)\n",
    "# 2000 neurons\n",
    "Weight_L1 = tf.Variable(tf.truncated_normal([784,2000],stddev = 0.1))\n",
    "Biase_L1 = tf.Variable(tf.zeros([2000]) + 0.1)\n",
    "L1 = tf.nn.tanh(tf.matmul(x,Weight_L1) + Biase_L1)\n",
    "L1_drop = tf.nn.dropout(L1, keep_prob) # The proportion of the working neurons.\n",
    "# 2000 neurons\n",
    "Weight_L2 = tf.Variable(tf.truncated_normal([2000,2000],stddev = 0.1))\n",
    "Biase_L2 = tf.Variable(tf.zeros([2000]) + 0.1)\n",
    "L2 = tf.nn.tanh(tf.matmul(L1_drop,Weight_L2) + Biase_L2)\n",
    "L2_drop = tf.nn.dropout(L2, keep_prob) # The proportion of the working neurons.\n",
    "# 1000 neurons\n",
    "Weight_L3 = tf.Variable(tf.truncated_normal([2000,1000],stddev = 0.1))\n",
    "Biase_L3 = tf.Variable(tf.zeros([1000]) + 0.1)\n",
    "L3 = tf.nn.tanh(tf.matmul(L2_drop,Weight_L3) + Biase_L3)\n",
    "L3_drop = tf.nn.dropout(L3, keep_prob) # The proportion of the working neurons.\n",
    "\n",
    "# Output layer 10 neurons (One_hot)\n",
    "Weight_L4 = tf.Variable(tf.truncated_normal([1000,10],stddev = 0.1))\n",
    "Biase_L4 = tf.Variable(tf.zeros([10]) + 0.1)\n",
    "prediction = tf.nn.softmax(tf.matmul(L3_drop,Weight_L4) + Biase_L4)\n",
    "\n",
    "\n",
    "# Quadratic loss function and gradient descent training method\n",
    "# loss = tf.reduce_mean(tf.square(y-prediction))\n",
    "loss = tf.reduce_mean(tf.nn.softmax_cross_entropy_with_logits(labels=y,logits=tf.matmul(L3_drop,Weight_L4) + Biase_L4))\n",
    "train_step = tf.train.GradientDescentOptimizer(0.2).minimize(loss)\n",
    "\n",
    "# Evaluate the accuracy of the model (argmax return the index of the max value)\n",
    "# correction_prediction is a list of type boolean\n",
    "correct_prediction = tf.equal(tf.argmax(y,1),tf.argmax(prediction,1)) # One-dimensional tensor\n",
    "# Calculate the accuracy (Transfrom the type into float32 format)\n",
    "accuracy = tf.reduce_mean(tf.cast(correct_prediction,tf.float32))\n",
    "\n",
    "with tf.Session() as sess:\n",
    "    sess.run(tf.global_variables_initializer())\n",
    "    # 21 cycles\n",
    "    for epoch in range(21):\n",
    "        # Iteration through all images\n",
    "        for batch in range(number_of_batch):\n",
    "            # Get the sample and corresponding label\n",
    "            batch_sample,batch_label = mnist.train.next_batch(batch_size)\n",
    "            sess.run(train_step,feed_dict = {x:batch_sample,y:batch_label,keep_prob:0.7})\n",
    "        # Accuracy after one iteration is done\n",
    "        \n",
    "        # Accuracy for testing set\n",
    "        test_acc = sess.run(accuracy,feed_dict = {x:mnist.test.images,y:mnist.test.labels,keep_prob:1.0})\n",
    "        # Accuracy for training set\n",
    "        train_acc = sess.run(accuracy,feed_dict = {x:mnist.train.images,y:mnist.train.labels,keep_prob:1.0})\n",
    "        print(\"Iter: \" + str(epoch) + \", Testing accuracy: \" + str(test_acc) + \", Training accuracy: \" + str(train_acc))\n",
    "        "
   ]
  },
  {
   "cell_type": "code",
   "execution_count": null,
   "metadata": {},
   "outputs": [],
   "source": []
  }
 ],
 "metadata": {
  "kernelspec": {
   "display_name": "Python 3",
   "language": "python",
   "name": "python3"
  },
  "language_info": {
   "codemirror_mode": {
    "name": "ipython",
    "version": 3
   },
   "file_extension": ".py",
   "mimetype": "text/x-python",
   "name": "python",
   "nbconvert_exporter": "python",
   "pygments_lexer": "ipython3",
   "version": "3.7.1"
  }
 },
 "nbformat": 4,
 "nbformat_minor": 2
}
