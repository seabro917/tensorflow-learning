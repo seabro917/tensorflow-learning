{
 "cells": [
  {
   "cell_type": "code",
   "execution_count": 1,
   "metadata": {},
   "outputs": [],
   "source": [
    "import tensorflow as tf"
   ]
  },
  {
   "cell_type": "code",
   "execution_count": 8,
   "metadata": {},
   "outputs": [
    {
     "name": "stdout",
     "output_type": "stream",
     "text": [
      "[16.0, 8.0]\n"
     ]
    }
   ],
   "source": [
    "# Fetch: run several operations parallelly.\n",
    "x1 = tf.constant(3.0)\n",
    "x2 = tf.constant(5.0)\n",
    "x3 = tf.constant(2.0)\n",
    "add = tf.add(x1,x2)\n",
    "mul = tf.multiply(add,x3)\n",
    "\n",
    "with tf.Session() as sess:\n",
    "    result = sess.run([mul,add])\n",
    "    print(result)"
   ]
  },
  {
   "cell_type": "code",
   "execution_count": 13,
   "metadata": {},
   "outputs": [
    {
     "name": "stdout",
     "output_type": "stream",
     "text": [
      "[28.]\n"
     ]
    }
   ],
   "source": [
    "# Feed:\n",
    "# Placeholder\n",
    "y1 = tf.placeholder(tf.float32)\n",
    "y2 = tf.placeholder(tf.float32)\n",
    "op = tf.multiply(y1,y2)\n",
    "\n",
    "with tf.Session() as sess:\n",
    "    # The format of the data used by Feed is a dictionary.\n",
    "    print(sess.run(op,feed_dict = {y1: [7.], y2: [4.]}))"
   ]
  },
  {
   "cell_type": "code",
   "execution_count": null,
   "metadata": {},
   "outputs": [],
   "source": []
  }
 ],
 "metadata": {
  "kernelspec": {
   "display_name": "Python 3",
   "language": "python",
   "name": "python3"
  },
  "language_info": {
   "codemirror_mode": {
    "name": "ipython",
    "version": 3
   },
   "file_extension": ".py",
   "mimetype": "text/x-python",
   "name": "python",
   "nbconvert_exporter": "python",
   "pygments_lexer": "ipython3",
   "version": "3.7.1"
  }
 },
 "nbformat": 4,
 "nbformat_minor": 2
}
