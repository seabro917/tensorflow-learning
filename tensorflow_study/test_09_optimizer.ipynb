{
 "cells": [
  {
   "cell_type": "code",
   "execution_count": 1,
   "metadata": {},
   "outputs": [],
   "source": [
    "import tensorflow as tf\n",
    "from tensorflow.examples.tutorials.mnist import input_data"
   ]
  },
  {
   "cell_type": "code",
   "execution_count": 3,
   "metadata": {},
   "outputs": [
    {
     "name": "stdout",
     "output_type": "stream",
     "text": [
      "Extracting MNIST_data\\train-images-idx3-ubyte.gz\n",
      "Extracting MNIST_data\\train-labels-idx1-ubyte.gz\n",
      "Extracting MNIST_data\\t10k-images-idx3-ubyte.gz\n",
      "Extracting MNIST_data\\t10k-labels-idx1-ubyte.gz\n",
      "WARNING:tensorflow:From <ipython-input-3-8ece79d392bd>:21: softmax_cross_entropy_with_logits (from tensorflow.python.ops.nn_ops) is deprecated and will be removed in a future version.\n",
      "Instructions for updating:\n",
      "\n",
      "Future major versions of TensorFlow will allow gradients to flow\n",
      "into the labels input on backprop by default.\n",
      "\n",
      "See `tf.nn.softmax_cross_entropy_with_logits_v2`.\n",
      "\n",
      "Iter 0, Testing accuracy: 0.9153\n",
      "Iter 1, Testing accuracy: 0.9145\n",
      "Iter 2, Testing accuracy: 0.9218\n",
      "Iter 3, Testing accuracy: 0.9184\n",
      "Iter 4, Testing accuracy: 0.9236\n",
      "Iter 5, Testing accuracy: 0.917\n",
      "Iter 6, Testing accuracy: 0.9199\n",
      "Iter 7, Testing accuracy: 0.9203\n",
      "Iter 8, Testing accuracy: 0.9211\n",
      "Iter 9, Testing accuracy: 0.9173\n",
      "Iter 10, Testing accuracy: 0.9169\n",
      "Iter 11, Testing accuracy: 0.9226\n",
      "Iter 12, Testing accuracy: 0.9159\n",
      "Iter 13, Testing accuracy: 0.9225\n",
      "Iter 14, Testing accuracy: 0.9212\n",
      "Iter 15, Testing accuracy: 0.9191\n",
      "Iter 16, Testing accuracy: 0.9166\n",
      "Iter 17, Testing accuracy: 0.9166\n",
      "Iter 18, Testing accuracy: 0.9189\n",
      "Iter 19, Testing accuracy: 0.9148\n",
      "Iter 20, Testing accuracy: 0.9199\n"
     ]
    }
   ],
   "source": [
    "# Load the sample data\n",
    "mnist = input_data.read_data_sets(\"MNIST_data\",one_hot = True)\n",
    "# Set the size of batch\n",
    "batch_size = 100\n",
    "# Number of batches in total\n",
    "number_of_batch = mnist.train.num_examples // batch_size\n",
    "\n",
    "\n",
    "# Define two place holders (Each picture is of size 28*28, which is 784, and will be extended as a one-dimensional vector)\n",
    "x = tf.placeholder(tf.float32,[None, 784])\n",
    "# Ten different kinds of numbers in total, ranging from 0 to 9.\n",
    "y = tf.placeholder(tf.float32,[None, 10])\n",
    "\n",
    "# Define a simple network (without hidden layer)\n",
    "Weight = tf.Variable(tf.zeros([784,10]))\n",
    "Biase = tf.Variable(tf.zeros([10]))\n",
    "# prediction is of size 1*10 (one_hot)\n",
    "prediction = tf.nn.softmax(tf.matmul(x,Weight) + Biase)\n",
    "\n",
    "# Quadratic loss function and gradient descent training method\n",
    "loss = tf.reduce_mean(tf.nn.softmax_cross_entropy_with_logits(labels = y, logits = tf.matmul(x,Weight) + Biase))\n",
    "# train_step = tf.train.GradientDescentOptimizer(0.2).minimize(loss)\n",
    "train_step = tf.train.AdamOptimizer(1e-2).minimize(loss)\n",
    "\n",
    "# Evaluate the accuracy of the model (argmax return the index of the max value)\n",
    "# correction_prediction is a list of type boolean\n",
    "correct_prediction = tf.equal(tf.argmax(y,1),tf.argmax(prediction,1)) # One-dimensional tensor\n",
    "# Calculate the accuracy (Transfrom the type into float32 format)\n",
    "accuracy = tf.reduce_mean(tf.cast(correct_prediction,tf.float32))\n",
    "\n",
    "with tf.Session() as sess:\n",
    "    sess.run(tf.global_variables_initializer())\n",
    "    # 21 cycles\n",
    "    for epoch in range(21):\n",
    "        # Iteration through all images\n",
    "        for batch in range(number_of_batch):\n",
    "            # Get the sample and corresponding label\n",
    "            batch_sample,batch_label = mnist.train.next_batch(batch_size)\n",
    "            sess.run(train_step,feed_dict = {x:batch_sample,y:batch_label})\n",
    "        # Accuracy after one iteration is done\n",
    "        acc = sess.run(accuracy,feed_dict = {x:mnist.test.images,y:mnist.test.labels})\n",
    "        print(\"Iter \" + str(epoch) + \", Testing accuracy: \" + str(acc))\n",
    "        "
   ]
  },
  {
   "cell_type": "code",
   "execution_count": null,
   "metadata": {},
   "outputs": [],
   "source": []
  }
 ],
 "metadata": {
  "kernelspec": {
   "display_name": "Python 3",
   "language": "python",
   "name": "python3"
  },
  "language_info": {
   "codemirror_mode": {
    "name": "ipython",
    "version": 3
   },
   "file_extension": ".py",
   "mimetype": "text/x-python",
   "name": "python",
   "nbconvert_exporter": "python",
   "pygments_lexer": "ipython3",
   "version": "3.7.1"
  }
 },
 "nbformat": 4,
 "nbformat_minor": 2
}
